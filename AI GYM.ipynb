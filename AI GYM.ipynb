{
 "cells": [
  {
   "cell_type": "code",
   "execution_count": 7,
   "metadata": {},
   "outputs": [],
   "source": [
    "import cv2\n",
    "from ultralytics import YOLO\n",
    "from ultralytics.solutions import ai_gym\n",
    "\n",
    "model = YOLO('yolov8n-pose.pt')\n",
    "cap = cv2.VideoCapture(\"C:/Users/ASUS/Downloads/pushup3.mp4\")\n",
    "assert cap.isOpened(), \"Error reading video file\"\n",
    "\n",
    "gym_object = ai_gym.AIGym()\n",
    "gym_object.set_args(line_thickness=2,\n",
    "                    view_img=True,\n",
    "                    pose_type=\"pushup\",\n",
    "                    kpts_to_check=[5,7,9])\n",
    "\n",
    "frame_count = 0\n",
    "while cap.isOpened():\n",
    "    success, frame = cap.read()\n",
    "    if not success:\n",
    "        break\n",
    "    if frame is not None:\n",
    "        frame = cv2.resize(frame, (640,640))\n",
    "    frame_count += 1\n",
    "    results = model.predict(frame, verbose = False)\n",
    "    frame = gym_object.start_counting(frame, results, frame_count)\n",
    "    if cv2.waitKey(1) == ord('q'):\n",
    "        break\n",
    "        \n",
    "    \n",
    "cv2.destroyAllWindows()\n",
    "    \n",
    "                    "
   ]
  },
  {
   "cell_type": "code",
   "execution_count": null,
   "metadata": {},
   "outputs": [],
   "source": []
  }
 ],
 "metadata": {
  "kernelspec": {
   "display_name": "torch",
   "language": "python",
   "name": "python3"
  },
  "language_info": {
   "codemirror_mode": {
    "name": "ipython",
    "version": 3
   },
   "file_extension": ".py",
   "mimetype": "text/x-python",
   "name": "python",
   "nbconvert_exporter": "python",
   "pygments_lexer": "ipython3",
   "version": "3.11.8"
  }
 },
 "nbformat": 4,
 "nbformat_minor": 2
}
